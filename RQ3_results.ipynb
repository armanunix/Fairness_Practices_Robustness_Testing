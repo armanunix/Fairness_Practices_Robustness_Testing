{
 "cells": [
  {
   "cell_type": "code",
   "execution_count": 1,
   "id": "466fe030",
   "metadata": {},
   "outputs": [
    {
     "name": "stdout",
     "output_type": "stream",
     "text": [
      "\\multirow{4}{*}{Heart} &\\multirow{4}{*}{1} & penalty & max\\_iteration \\\\\n",
      " &  & dual & tol \\\\\n",
      " &  & fit\\_intercept & l1\\_ratio \\\\\n",
      " &  & intercept\\_scaling & C \\\\\n"
     ]
    }
   ],
   "source": [
    "import numpy as np\n",
    "import pandas as pd\n",
    "import glob, re\n",
    "\n",
    "dataset = 'Heart'\n",
    "if dataset == 'Adult':\n",
    "    sensitive_param = 7\n",
    "    sensitive_name = 'gender'\n",
    "    priviliged_group = 1  #male\n",
    "    unpriviliged_group = 0#female\n",
    "    favorable_label  = 1.0\n",
    "    unfavorable_label = 0.0\n",
    "    data_file_name = 'adult_org-Copy1.csv'\n",
    "    graph_base_filename ='./Adult_Analysis/ges/DAGs/Adult_ges_DAG_1.csv'\n",
    "    edge_list_base_filename = './Adult_Analysis/ges/PP/Adult_ges_pp_1.csv'\n",
    "    alg_list = ['ges','simy']\n",
    "    hp_ind_0 = 14\n",
    "    hp_ind_1 = 36\n",
    "if dataset == 'Compas':\n",
    "    sensitive_param = 1\n",
    "    sensitive_name = 'race'\n",
    "    priviliged_group = 1  #male\n",
    "    unpriviliged_group = 0#female\n",
    "    favorable_label  = 1.0\n",
    "    unfavorable_label = 0.0\n",
    "    data_file_name = 'compas-Copy1'\n",
    "    graph_base_filename ='./Compas_Analysis/pc/DAGs/Compas_pc_DAG_13.csv'\n",
    "    edge_list_base_filename = './Compas_Analysis/pc/PP/Compas_pc_pp_13.csv'\n",
    "    alg_list = ['ges','pc']\n",
    "    hp_ind_0 = 0\n",
    "    hp_ind_1 = 63\n",
    "if dataset == 'Bank':\n",
    "    sensitive_param = 0\n",
    "    sensitive_name = 'age'\n",
    "    priviliged_group = 5  #male\n",
    "    unpriviliged_group = 3#female\n",
    "    favorable_label  = 1.0\n",
    "    unfavorable_label = 0.0\n",
    "    data_file_name = 'bank'\n",
    "    graph_base_filename ='./Bank_Analysis/ges/DAGs/Bank_ges_DAG_8.csv'\n",
    "    edge_list_base_filename = './Bank_Analysis/ges/PP/Bank_ges_pp_8.csv'\n",
    "    alg_list = ['ges']\n",
    "    hp_ind_0 = 10\n",
    "    hp_ind_1 = 1\n",
    "if dataset == 'Law':\n",
    "    sensitive_param = 0\n",
    "    sensitive_name = 'sex'\n",
    "    priviliged_group = 1  #male\n",
    "    unpriviliged_group = 0#female\n",
    "    favorable_label  = 1.0\n",
    "    unfavorable_label = 0.0\n",
    "    data_file_name = 'law.csv'\n",
    "    graph_base_filename ='./Law_Analysis/ges/DAGs/Law_ges_DAG_15.csv'\n",
    "    edge_list_base_filename = './Law_Analysis/ges/PP/Law_ges_pp_15.csv'\n",
    "    alg_list = ['ges','simy']\n",
    "    hp_ind_0 = 0\n",
    "    hp_ind_1 = 22\n",
    "if dataset == 'Student':\n",
    "    sensitive_param = 0\n",
    "    sensitive_name = 'sex'\n",
    "    priviliged_group = 1  #male\n",
    "    unpriviliged_group = 0#female\n",
    "    favorable_label  = 1.0\n",
    "    unfavorable_label = 0.0\n",
    "    data_file_name = 'students-processed_2'\n",
    "    graph_base_filename ='./Student_Analysis/pc/DAGs/Student_pc_DAG_1.csv'\n",
    "    edge_list_base_filename = './Student_Analysis/pc/PP/Student_pc_pp_1.csv'\n",
    "    alg_list = ['simy','pc']\n",
    "    hp_ind_0 = 16\n",
    "    hp_ind_1 = 18\n",
    "if dataset == 'Heart':\n",
    "    sensitive_param = 0\n",
    "    sensitive_name = 'sex'\n",
    "    priviliged_group = 1  #male\n",
    "    unpriviliged_group = 0#female\n",
    "    favorable_label  = 1.0\n",
    "    unfavorable_label = 0.0\n",
    "    data_file_name = 'heart_processed_1'\n",
    "    graph_base_filename ='./Heart_Analysis/ges/DAGs/Heart_ges_DAG_4.csv'\n",
    "    edge_list_base_filename = './Heart_Analysis/ges/PP/Heart_ges_pp_4.csv'\n",
    "    alg_list = ['ges']\n",
    "    hp_ind_0 = 19\n",
    "    hp_ind_1 = 56\n",
    "    \n",
    "\n",
    "\n",
    "\n",
    "    \n",
    "filename = './'+dataset+'_Analysis/RQ3/'+dataset+'_RQ3.npy'\n",
    "res = np.load(filename, allow_pickle=True)\n",
    "alg_include = np.array([1 if i in alg_list else 0 for i in res[:,1] ])\n",
    "res = res[np.where(alg_include!=0)[0]]\n",
    "\n",
    "hp0 = res[hp_ind_0,4:8]\n",
    "hp1=res[hp_ind_1,4:8]\n",
    "\n",
    "graph_base_filename = './'+dataset+'_Analysis/'+res[hp_ind_0,1]+'/DAGs/'+dataset+'_'+res[hp_ind_0,1]+'_DAG_'+res[hp_ind_0,2]+'.csv'\n",
    "dag_pert_filname = './'+dataset+'_Analysis/'+res[hp_ind_1,1]+'/DAGs/'+dataset+'_'+res[hp_ind_1,1]+'_DAG_'+res[hp_ind_1,2]+'.csv'\n",
    "dag_base = pd.read_csv(graph_base_filename)\n",
    "dag_pert = pd.read_csv(dag_pert_filname)\n",
    "pert_num = round(np.where(dag_base.sum()!=dag_pert.sum())[0].shape[0]/2 + 0.4)\n",
    "\n",
    "print('\\\\multirow{4}{*}{'+dataset+'} &' + '\\\\multirow{4}{*}{'+str(pert_num)+'} & ' + hp0[0].replace('_','\\_') + ' & ' + hp1[0].replace('_','\\_') +' \\\\\\\\')\n",
    "print(' &  & ' + hp0[1].replace('_','\\_') + ' & ' + hp1[1].replace('_','\\_') +' \\\\\\\\' )\n",
    "print(' &  & ' + hp0[2].replace('_','\\_') + ' & ' + hp1[2].replace('_','\\_') +' \\\\\\\\' )\n",
    "print(' &  & ' + hp0[3].replace('_','\\_') + ' & ' + hp1[3].replace('_','\\_') +' \\\\\\\\' )\n"
   ]
  },
  {
   "cell_type": "code",
   "execution_count": 54,
   "id": "e21581ca",
   "metadata": {
    "scrolled": true
   },
   "outputs": [
    {
     "name": "stdout",
     "output_type": "stream",
     "text": [
      "19 56\n"
     ]
    },
    {
     "ename": "KeyboardInterrupt",
     "evalue": "Interrupted by user",
     "output_type": "error",
     "traceback": [
      "\u001b[0;31m---------------------------------------------------------------------------\u001b[0m",
      "\u001b[0;31mKeyboardInterrupt\u001b[0m                         Traceback (most recent call last)",
      "Cell \u001b[0;32mIn[54], line 14\u001b[0m\n\u001b[1;32m     12\u001b[0m \u001b[38;5;28;01melse\u001b[39;00m:\n\u001b[1;32m     13\u001b[0m     \u001b[38;5;28mprint\u001b[39m(hp0, hp1)\n\u001b[0;32m---> 14\u001b[0m     \u001b[38;5;28;43minput\u001b[39;49m\u001b[43m(\u001b[49m\u001b[43m)\u001b[49m\n\u001b[1;32m     15\u001b[0m     \u001b[38;5;28;01mbreak\u001b[39;00m\n",
      "File \u001b[0;32m~/.virtualenvs/RISC_LAB/lib/python3.8/site-packages/ipykernel/kernelbase.py:1191\u001b[0m, in \u001b[0;36mKernel.raw_input\u001b[0;34m(self, prompt)\u001b[0m\n\u001b[1;32m   1189\u001b[0m     msg \u001b[38;5;241m=\u001b[39m \u001b[38;5;124m\"\u001b[39m\u001b[38;5;124mraw_input was called, but this frontend does not support input requests.\u001b[39m\u001b[38;5;124m\"\u001b[39m\n\u001b[1;32m   1190\u001b[0m     \u001b[38;5;28;01mraise\u001b[39;00m StdinNotImplementedError(msg)\n\u001b[0;32m-> 1191\u001b[0m \u001b[38;5;28;01mreturn\u001b[39;00m \u001b[38;5;28;43mself\u001b[39;49m\u001b[38;5;241;43m.\u001b[39;49m\u001b[43m_input_request\u001b[49m\u001b[43m(\u001b[49m\n\u001b[1;32m   1192\u001b[0m \u001b[43m    \u001b[49m\u001b[38;5;28;43mstr\u001b[39;49m\u001b[43m(\u001b[49m\u001b[43mprompt\u001b[49m\u001b[43m)\u001b[49m\u001b[43m,\u001b[49m\n\u001b[1;32m   1193\u001b[0m \u001b[43m    \u001b[49m\u001b[38;5;28;43mself\u001b[39;49m\u001b[38;5;241;43m.\u001b[39;49m\u001b[43m_parent_ident\u001b[49m\u001b[43m[\u001b[49m\u001b[38;5;124;43m\"\u001b[39;49m\u001b[38;5;124;43mshell\u001b[39;49m\u001b[38;5;124;43m\"\u001b[39;49m\u001b[43m]\u001b[49m\u001b[43m,\u001b[49m\n\u001b[1;32m   1194\u001b[0m \u001b[43m    \u001b[49m\u001b[38;5;28;43mself\u001b[39;49m\u001b[38;5;241;43m.\u001b[39;49m\u001b[43mget_parent\u001b[49m\u001b[43m(\u001b[49m\u001b[38;5;124;43m\"\u001b[39;49m\u001b[38;5;124;43mshell\u001b[39;49m\u001b[38;5;124;43m\"\u001b[39;49m\u001b[43m)\u001b[49m\u001b[43m,\u001b[49m\n\u001b[1;32m   1195\u001b[0m \u001b[43m    \u001b[49m\u001b[43mpassword\u001b[49m\u001b[38;5;241;43m=\u001b[39;49m\u001b[38;5;28;43;01mFalse\u001b[39;49;00m\u001b[43m,\u001b[49m\n\u001b[1;32m   1196\u001b[0m \u001b[43m\u001b[49m\u001b[43m)\u001b[49m\n",
      "File \u001b[0;32m~/.virtualenvs/RISC_LAB/lib/python3.8/site-packages/ipykernel/kernelbase.py:1234\u001b[0m, in \u001b[0;36mKernel._input_request\u001b[0;34m(self, prompt, ident, parent, password)\u001b[0m\n\u001b[1;32m   1231\u001b[0m \u001b[38;5;28;01mexcept\u001b[39;00m \u001b[38;5;167;01mKeyboardInterrupt\u001b[39;00m:\n\u001b[1;32m   1232\u001b[0m     \u001b[38;5;66;03m# re-raise KeyboardInterrupt, to truncate traceback\u001b[39;00m\n\u001b[1;32m   1233\u001b[0m     msg \u001b[38;5;241m=\u001b[39m \u001b[38;5;124m\"\u001b[39m\u001b[38;5;124mInterrupted by user\u001b[39m\u001b[38;5;124m\"\u001b[39m\n\u001b[0;32m-> 1234\u001b[0m     \u001b[38;5;28;01mraise\u001b[39;00m \u001b[38;5;167;01mKeyboardInterrupt\u001b[39;00m(msg) \u001b[38;5;28;01mfrom\u001b[39;00m \u001b[38;5;28;01mNone\u001b[39;00m\n\u001b[1;32m   1235\u001b[0m \u001b[38;5;28;01mexcept\u001b[39;00m \u001b[38;5;167;01mException\u001b[39;00m:\n\u001b[1;32m   1236\u001b[0m     \u001b[38;5;28mself\u001b[39m\u001b[38;5;241m.\u001b[39mlog\u001b[38;5;241m.\u001b[39mwarning(\u001b[38;5;124m\"\u001b[39m\u001b[38;5;124mInvalid Message:\u001b[39m\u001b[38;5;124m\"\u001b[39m, exc_info\u001b[38;5;241m=\u001b[39m\u001b[38;5;28;01mTrue\u001b[39;00m)\n",
      "\u001b[0;31mKeyboardInterrupt\u001b[0m: Interrupted by user"
     ]
    }
   ],
   "source": [
    "for hp0 in range(res[:,4:8].shape[0]):\n",
    "    for hp1 in range(res[:,4:8].shape[0]):\n",
    "        difference_result = []\n",
    "        for item in res[:,4:8][hp0]:\n",
    "            if item not in res[:,4:8][hp1]:\n",
    "                difference_result.append(item)\n",
    "\n",
    "        if len(difference_result)==4:\n",
    "            \n",
    "            if 'l1_ratio_isna' in res[:,4:8][hp0] and 'l1_ratio' in res[:,4:8][hp0]:continue\n",
    "            elif 'l1_ratio_isna' in res[:,4:8][hp1] and 'l1_ratio' in res[:,4:8][hp1]:continue\n",
    "            else:\n",
    "                print(hp0, hp1)\n",
    "                input()\n",
    "                break"
   ]
  },
  {
   "cell_type": "code",
   "execution_count": 31,
   "id": "7e607b0e",
   "metadata": {},
   "outputs": [
    {
     "data": {
      "text/plain": [
       "'./Compas_Analysis/ges/DAGs/Compas_ges_DAG_1.csv'"
      ]
     },
     "execution_count": 31,
     "metadata": {},
     "output_type": "execute_result"
    }
   ],
   "source": [
    "graph_base_filename"
   ]
  },
  {
   "cell_type": "code",
   "execution_count": 34,
   "id": "54d252ea",
   "metadata": {},
   "outputs": [
    {
     "data": {
      "text/plain": [
       "'1'"
      ]
     },
     "execution_count": 34,
     "metadata": {},
     "output_type": "execute_result"
    }
   ],
   "source": [
    "res[hp_ind_0,2]"
   ]
  },
  {
   "cell_type": "code",
   "execution_count": 33,
   "id": "2a95975e",
   "metadata": {},
   "outputs": [
    {
     "data": {
      "text/plain": [
       "'ges'"
      ]
     },
     "execution_count": 33,
     "metadata": {},
     "output_type": "execute_result"
    }
   ],
   "source": [
    "res[hp_ind_0,1]"
   ]
  },
  {
   "cell_type": "code",
   "execution_count": null,
   "id": "9374049f",
   "metadata": {},
   "outputs": [],
   "source": []
  }
 ],
 "metadata": {
  "kernelspec": {
   "display_name": "Python 3 (ipykernel)",
   "language": "python",
   "name": "python3"
  },
  "language_info": {
   "codemirror_mode": {
    "name": "ipython",
    "version": 3
   },
   "file_extension": ".py",
   "mimetype": "text/x-python",
   "name": "python",
   "nbconvert_exporter": "python",
   "pygments_lexer": "ipython3",
   "version": "3.8.10"
  }
 },
 "nbformat": 4,
 "nbformat_minor": 5
}
