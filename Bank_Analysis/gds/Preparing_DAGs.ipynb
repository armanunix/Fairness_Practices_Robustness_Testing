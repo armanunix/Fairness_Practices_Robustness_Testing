{
 "cells": [
  {
   "cell_type": "code",
   "execution_count": 4,
   "id": "42f974cd",
   "metadata": {},
   "outputs": [],
   "source": [
    "import pandas as pd\n",
    "from itertools import product\n",
    "data = pd.read_csv('/mnt/vmonjezi/backup/vmonjezi/Documents/GitHub/Fairness-libraries-testing/subjects/datasets/bank')\n",
    "dag = pd.read_csv('../gds/Bank_gds.csv').astype(int)\n",
    "dag = dag[dag.columns[1:]]\n",
    "dag.columns = data.columns\n",
    "dag.index = data.columns\n",
    "dag = dag.T\n",
    "#dag.to_csv('../ges/Bank_ges_main.csv',index=False)\n",
    "bidir_nodes =[]\n",
    "for edge1 in dag.columns:\n",
    "    for edge2 in dag.columns:\n",
    "        if dag.loc[edge1,edge2] == 1 and dag.loc[edge2,edge1]==1 :\n",
    "            if [edge1,edge2] not in bidir_nodes and  [edge2,edge1] not in bidir_nodes:\n",
    "                bidir_nodes.append([edge1,edge2])\n",
    "k=0\n",
    "for state in list(product([0, 1], repeat=len(bidir_nodes))):\n",
    "    new_dag = dag.copy()\n",
    "    for edges in bidir_nodes:\n",
    "        new_dag.loc[edges[0],edges[1]]=0\n",
    "        new_dag.loc[edges[1],edges[0]]=0\n",
    "    for edg in range(len(state)):\n",
    "        if state[edg]== 0 :\n",
    "            \n",
    "            #print('{edge1}->{edge2}'.format(edge1=bidir_nodes[edg][0],edge2=bidir_nodes[edg][1]))\n",
    "            new_dag.loc[bidir_nodes[edg][0],bidir_nodes[edg][1]]=1\n",
    "            \n",
    "            \n",
    "        else :\n",
    "            #print('{edge1}<-{edge2}'.format(edge1=bidir_nodes[edg][0],edge2=bidir_nodes[edg][1]))\n",
    "            new_dag.loc[bidir_nodes[edg][1],bidir_nodes[edg][0]]=1\n",
    "            \n",
    "    k += 1\n",
    "    new_dag.to_csv('../gds/Bank_gds_{k}.csv'.format(k=k))\n",
    "    "
   ]
  },
  {
   "cell_type": "code",
   "execution_count": 5,
   "id": "f4bd41c4",
   "metadata": {},
   "outputs": [
    {
     "data": {
      "text/plain": [
       "[['g', 'k'],\n",
       " ['g', 'p'],\n",
       " ['j', 'k'],\n",
       " ['j', 'l'],\n",
       " ['j', 'm'],\n",
       " ['j', 'p'],\n",
       " ['k', 'm'],\n",
       " ['k', 'p'],\n",
       " ['l', 'm'],\n",
       " ['m', 'p']]"
      ]
     },
     "execution_count": 5,
     "metadata": {},
     "output_type": "execute_result"
    }
   ],
   "source": [
    "bidir_nodes"
   ]
  },
  {
   "cell_type": "code",
   "execution_count": 9,
   "id": "834cf674",
   "metadata": {},
   "outputs": [
    {
     "data": {
      "text/plain": [
       "32"
      ]
     },
     "execution_count": 9,
     "metadata": {},
     "output_type": "execute_result"
    }
   ],
   "source": [
    "2*2*2*2*2"
   ]
  },
  {
   "cell_type": "code",
   "execution_count": 10,
   "id": "861b456a",
   "metadata": {},
   "outputs": [
    {
     "data": {
      "text/plain": [
       "1024"
      ]
     },
     "execution_count": 10,
     "metadata": {},
     "output_type": "execute_result"
    }
   ],
   "source": [
    "32*32"
   ]
  },
  {
   "cell_type": "code",
   "execution_count": null,
   "id": "2fc21dc6",
   "metadata": {},
   "outputs": [],
   "source": []
  }
 ],
 "metadata": {
  "kernelspec": {
   "display_name": "Python 3 (ipykernel)",
   "language": "python",
   "name": "python3"
  },
  "language_info": {
   "codemirror_mode": {
    "name": "ipython",
    "version": 3
   },
   "file_extension": ".py",
   "mimetype": "text/x-python",
   "name": "python",
   "nbconvert_exporter": "python",
   "pygments_lexer": "ipython3",
   "version": "3.8.10"
  }
 },
 "nbformat": 4,
 "nbformat_minor": 5
}
