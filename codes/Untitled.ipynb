{
 "cells": [
  {
   "cell_type": "code",
   "execution_count": null,
   "id": "b1f80678-9fbb-4469-95dc-f7a0d978f802",
   "metadata": {},
   "outputs": [],
   "source": []
  }
 ],
 "metadata": {
  "kernelspec": {
   "display_name": "",
   "name": ""
  },
  "language_info": {
   "name": ""
  }
 },
 "nbformat": 4,
 "nbformat_minor": 5
}
