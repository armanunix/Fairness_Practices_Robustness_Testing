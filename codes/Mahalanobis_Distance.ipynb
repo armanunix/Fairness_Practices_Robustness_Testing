{
 "cells": [
  {
   "cell_type": "code",
   "execution_count": 7,
   "id": "b7ea4d8c",
   "metadata": {},
   "outputs": [
    {
     "name": "stdout",
     "output_type": "stream",
     "text": [
      "    Price  Distance  Emission  Performance  Mileage  Mahalanobis         p\n",
      "0  100000     16000       300           60       76     6.055764  0.108928\n",
      "1  800000     60000       400           88       89     2.579063  0.461172\n",
      "2  650000    300000      1230           90       89     6.762529  0.079865\n",
      "3  700000     10000       300           87       57     7.482670  0.058005\n",
      "4  860000    252000       400           83       79     2.027900  0.566636\n",
      "5  730000    350000       104           81       84     2.380654  0.497246\n",
      "6  400000    260000       632           72       78     2.147466  0.542370\n",
      "7  870000    510000       221           91       99     4.915337  0.178103\n",
      "8  780000      2000       142           90       97     4.025548  0.258719\n",
      "9  400000      5000       267           93       99     6.623069  0.084933\n"
     ]
    },
    {
     "name": "stderr",
     "output_type": "stream",
     "text": [
      "/home/vmonjezi/.virtualenvs/RISC_LAB/lib/python3.8/site-packages/numpy/core/fromnumeric.py:3430: FutureWarning: In a future version, DataFrame.mean(axis=None) will return a scalar mean over the entire DataFrame. To retain the old behavior, use 'frame.mean(axis=0)' or just 'frame.mean()'\n",
      "  return mean(axis=axis, dtype=dtype, out=out, **kwargs)\n"
     ]
    }
   ],
   "source": [
    "# Importing libraries \n",
    "# Importing libraries \n",
    "\n",
    "import numpy as np \n",
    "import pandas as pd \n",
    "import scipy as stats \n",
    "from scipy.stats import chi2 \n",
    "\n",
    "# calculateMahalanobis Function to calculate \n",
    "# the Mahalanobis distance \n",
    "def calculateMahalanobis(y=None, data=None, cov=None): \n",
    "\n",
    "\ty_mu = y - np.mean(data) \n",
    "\tif not cov: \n",
    "\t\tcov = np.cov(data.values.T) \n",
    "\tinv_covmat = np.linalg.inv(cov) \n",
    "\tleft = np.dot(y_mu, inv_covmat) \n",
    "\tmahal = np.dot(left, y_mu.T) \n",
    "\treturn mahal.diagonal() \n",
    "\n",
    "# data \n",
    "data = { 'Price': [100000, 800000, 650000, 700000, \n",
    "\t\t\t\t860000, 730000, 400000, 870000, \n",
    "\t\t\t\t780000, 400000], \n",
    "\t\t'Distance': [16000, 60000, 300000, 10000, \n",
    "\t\t\t\t\t252000, 350000, 260000, 510000, \n",
    "\t\t\t\t\t2000, 5000], \n",
    "\t\t'Emission': [300, 400, 1230, 300, 400, 104, \n",
    "\t\t\t\t\t632, 221, 142, 267], \n",
    "\t\t'Performance': [60, 88, 90, 87, 83, 81, 72, \n",
    "\t\t\t\t\t\t91, 90, 93], \n",
    "\t\t'Mileage': [76, 89, 89, 57, 79, 84, 78, 99, \n",
    "\t\t\t\t\t97, 99] \n",
    "\t\t} \n",
    "\n",
    "# Creating dataset \n",
    "df = pd.DataFrame(data,columns=['Price', 'Distance', \n",
    "\t\t\t\t\t\t\t\t'Emission','Performance', \n",
    "\t\t\t\t\t\t\t\t'Mileage']) \n",
    "\n",
    "# Creating a new column in the dataframe that holds \n",
    "# the Mahalanobis distance for each row \n",
    "df['Mahalanobis'] = calculateMahalanobis(y=df, data=df[[ \n",
    "'Price', 'Distance', 'Emission','Performance', 'Mileage']]) \n",
    "\n",
    "# calculate p-value for each mahalanobis distance \n",
    "df['p'] = 1 - chi2.cdf(df['Mahalanobis'], 3) \n",
    "\n",
    "# display first five rows of dataframe \n",
    "print(df) \n"
   ]
  },
  {
   "cell_type": "code",
   "execution_count": 8,
   "id": "bfef853c",
   "metadata": {},
   "outputs": [
    {
     "name": "stdout",
     "output_type": "stream",
     "text": [
      "Collecting mahalanobis\n",
      "  Downloading mahalanobis-1.2.0.tar.gz (14 kB)\n",
      "  Preparing metadata (setup.py) ... \u001b[?25ldone\n",
      "\u001b[?25hBuilding wheels for collected packages: mahalanobis\n",
      "  Building wheel for mahalanobis (setup.py) ... \u001b[?25ldone\n",
      "\u001b[?25h  Created wheel for mahalanobis: filename=mahalanobis-1.2.0-py3-none-any.whl size=13963 sha256=55a72c596eb7708c5ef52880cff8cddb8f33d4c38267a194c503bd15c5102aea\n",
      "  Stored in directory: /home/vmonjezi/.cache/pip/wheels/b8/bc/c0/0b2743af71fc775dbd95eb841289c914690ccc3ff95bf8e845\n",
      "Successfully built mahalanobis\n",
      "Installing collected packages: mahalanobis\n",
      "Successfully installed mahalanobis-1.2.0\n",
      "\n",
      "\u001b[1m[\u001b[0m\u001b[34;49mnotice\u001b[0m\u001b[1;39;49m]\u001b[0m\u001b[39;49m A new release of pip is available: \u001b[0m\u001b[31;49m24.1.2\u001b[0m\u001b[39;49m -> \u001b[0m\u001b[32;49m24.2\u001b[0m\n",
      "\u001b[1m[\u001b[0m\u001b[34;49mnotice\u001b[0m\u001b[1;39;49m]\u001b[0m\u001b[39;49m To update, run: \u001b[0m\u001b[32;49mpip install --upgrade pip\u001b[0m\n"
     ]
    }
   ],
   "source": [
    "!pip install mahalanobis"
   ]
  },
  {
   "cell_type": "code",
   "execution_count": 32,
   "id": "02e336d4",
   "metadata": {},
   "outputs": [],
   "source": [
    "import numpy as np\n",
    "import mahalanobis\n",
    "input_2D = (np.arange(20) + np.random.normal(0, 0.1, 20)).reshape(-1,2)\n",
    "\n",
    "mahND = mahalanobis.MahalanobisND(input_2D,100 )\n",
    "\n",
    "# mahND.mean\n",
    "\n",
    "\n",
    "\n",
    "# mahND.cov_matrix\n",
    "\n",
    "\n",
    "# mahND.distd\n"
   ]
  },
  {
   "cell_type": "code",
   "execution_count": 34,
   "id": "ade0b251",
   "metadata": {},
   "outputs": [
    {
     "data": {
      "text/plain": [
       "array([[18.16899009]])"
      ]
     },
     "execution_count": 34,
     "metadata": {},
     "output_type": "execute_result"
    }
   ],
   "source": [
    "mahND.calc_distances(np.array([[10,14]]))"
   ]
  },
  {
   "cell_type": "code",
   "execution_count": 23,
   "id": "04db6634",
   "metadata": {},
   "outputs": [
    {
     "data": {
      "text/plain": [
       "array([[-0.08020819,  0.94029111],\n",
       "       [ 1.80767343,  2.8521032 ],\n",
       "       [ 3.99054545,  5.01786769],\n",
       "       [ 6.15839695,  6.9170261 ],\n",
       "       [ 8.22760881,  9.03766698],\n",
       "       [10.07851053, 10.88816534],\n",
       "       [11.853391  , 12.91937543],\n",
       "       [13.94733788, 14.97426816],\n",
       "       [16.00573373, 16.83576748],\n",
       "       [18.13068798, 19.03040089]])"
      ]
     },
     "execution_count": 23,
     "metadata": {},
     "output_type": "execute_result"
    }
   ],
   "source": [
    "input_2D"
   ]
  },
  {
   "cell_type": "code",
   "execution_count": null,
   "id": "9568d98a",
   "metadata": {},
   "outputs": [],
   "source": []
  }
 ],
 "metadata": {
  "kernelspec": {
   "display_name": "Python 3 (ipykernel)",
   "language": "python",
   "name": "python3"
  },
  "language_info": {
   "codemirror_mode": {
    "name": "ipython",
    "version": 3
   },
   "file_extension": ".py",
   "mimetype": "text/x-python",
   "name": "python",
   "nbconvert_exporter": "python",
   "pygments_lexer": "ipython3",
   "version": "3.8.10"
  }
 },
 "nbformat": 4,
 "nbformat_minor": 5
}
