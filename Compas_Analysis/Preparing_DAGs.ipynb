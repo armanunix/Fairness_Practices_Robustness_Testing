{
 "cells": [
  {
   "cell_type": "code",
   "execution_count": 7,
   "id": "3531b3ba",
   "metadata": {},
   "outputs": [],
   "source": [
    "import pandas as pd\n",
    "from itertools import product\n",
    "data = pd.read_csv('/mnt/vmonjezi/backup/vmonjezi/Documents/GitHub/Fairness-libraries-testing/subjects/datasets/compas-Copy1')\n",
    "dag = pd.read_csv('./simy/DAGs/Compas_simy.csv').astype(int)\n",
    "\n",
    "dag = dag[dag.columns[1:]]\n",
    "dag.columns = data.columns\n",
    "dag.index = data.columns\n",
    "\n",
    "#dag.to_csv('../ges/Bank_ges_main.csv',index=False)\n",
    "bidir_nodes =[]\n",
    "for edge1 in dag.columns:\n",
    "    for edge2 in dag.columns:\n",
    "        if dag.loc[edge1,edge2] == 1 and dag.loc[edge2,edge1]==1 :\n",
    "            if [edge1,edge2] not in bidir_nodes and  [edge2,edge1] not in bidir_nodes:\n",
    "                bidir_nodes.append([edge1,edge2])\n",
    "if len(bidir_nodes)!=0:\n",
    "    \n",
    "    k=0\n",
    "    for state in list(product([0, 1], repeat=len(bidir_nodes))):\n",
    "        new_dag = dag.copy()\n",
    "        for edges in bidir_nodes:\n",
    "            new_dag.loc[edges[0],edges[1]]=0\n",
    "            new_dag.loc[edges[1],edges[0]]=0\n",
    "        for edg in range(len(state)):\n",
    "            if state[edg]== 0 :\n",
    "\n",
    "                #print('{edge1}->{edge2}'.format(edge1=bidir_nodes[edg][0],edge2=bidir_nodes[edg][1]))\n",
    "                new_dag.loc[bidir_nodes[edg][0],bidir_nodes[edg][1]]=1\n",
    "\n",
    "\n",
    "            else :\n",
    "                #print('{edge1}<-{edge2}'.format(edge1=bidir_nodes[edg][0],edge2=bidir_nodes[edg][1]))\n",
    "                new_dag.loc[bidir_nodes[edg][1],bidir_nodes[edg][0]]=1\n",
    "\n",
    "        k += 1\n",
    "        new_dag.to_csv('./simy/DAGs/Compas_simy_DAG_{k}.csv'.format(k=k))\n",
    "else:\n",
    "    dag.to_csv('./simy/DAGs/Compas_simy_DAG_1.csv')"
   ]
  },
  {
   "cell_type": "code",
   "execution_count": null,
   "id": "7d7201bd",
   "metadata": {},
   "outputs": [],
   "source": []
  }
 ],
 "metadata": {
  "kernelspec": {
   "display_name": "Python 3 (ipykernel)",
   "language": "python",
   "name": "python3"
  },
  "language_info": {
   "codemirror_mode": {
    "name": "ipython",
    "version": 3
   },
   "file_extension": ".py",
   "mimetype": "text/x-python",
   "name": "python",
   "nbconvert_exporter": "python",
   "pygments_lexer": "ipython3",
   "version": "3.8.10"
  }
 },
 "nbformat": 4,
 "nbformat_minor": 5
}
